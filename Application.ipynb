{
 "cells": [
  {
   "cell_type": "markdown",
   "id": "ce3fda6d-f0ff-439c-a110-c382adad7d68",
   "metadata": {},
   "source": [
    "## Step 1: Setting Up the Python Application\n",
    "Created pip environment with neccessary packages. They are listed in requirements.txt"
   ]
  },
  {
   "cell_type": "markdown",
   "id": "b7a3ed10-e082-4f55-a539-58d3e4d17a1d",
   "metadata": {},
   "source": [
    "## Step 2: Generating Real Estate Listings\n",
    "Generate real estate listings using a Large Language Model. Generate at least 10 listings\n",
    "\n",
    "\n",
    "The code for generating the listings is provided in the file [generate_data.py](./generate_data.py). I have generated 20 listings using GPT-4, as well as images for those using DALL-E 3. I created listings in batches of 5 , to ensure I was within the token limit of an API call.\n",
    "The separate listings are in the [listings](./listings/) directory, and the images are in the [images](./images/) directory\n",
    "\n",
    "All the listings were combined into a single file, wit