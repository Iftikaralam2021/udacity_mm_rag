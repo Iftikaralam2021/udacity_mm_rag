{
 "cells": [
  {
   "cell_type": "markdown",
   "id": "ce3fda6d-f0ff-439c-a110-c382adad7d68",
   "metadata": {},
   "source": [
    "## Step 1: Setting Up the Python Application\n",
    "Created pip environment with neccessary packages. They are listed in requirements.txt"
   ]
  },
  {
   "cell_type": "markdown",
   "id": "b7a3ed10-e082-4f55-a539-58d3e4d17a1d",
   "metadata": {},
   "source": [
    "## Step 2: Generating Real Estate Listings\n",
    "Generate real estate listings using a Large Language Model. Generate at least 10 listings\n",
    "\n",
    "\n",
    "The code for generating the listings is provided in the file [generate_data.py](./generate_data.py). I have generated 20 listings using GPT-4, as well as images for those using DALL-E 3. I created listings in batches of 5 , to ensure I was within the token limit of an API call.\n",
    "The separate listings are in the [listings](./listings/) directory, and the images are in the [images](./images/) directory\n",
    "\n",
    "All the listings were combined into a single file, with links to the generated images using the script [create full datasets.py](./create_full_datasets.py). The full file is called [listings.csv](./listings.csv)\n",
    "and is present in the root folder of the project\n",
    "\n"
   ]
  },
  {
   "cell_type": "markdown",
   "id": "a17b262a-83dc-4901-b062-444708265559",
   "metadata": {},
   "source": [
    "## Step 3: Storing Listings in a Vector Database\n",
    "\n",
    "I have LanceDB to create two vector tables, one for text and one for image. While the application will have multimodal capabilties, I have chosen not to use CLIP embeddings for both. Instead I will process the two modalities separately.\n",
    "\n",
    "For images as mentioned above, I have used CLIP embeddings from HuggingFace while for text I have used ADA-3 embeddings from OpenAI\n",
    "\n",
    "The LanceDB folder is [sample-lancedb](./sample-lancedb/). The table for images is called [table_from_df_images.lance](./sample-lancedb/table_from_df_images.lance). The table for text is called [table_from_df_text.lance](./sample-lancedb/table_from_df_text.lance)\n",
    "\n",
    "The code for embedding generation as well as vector DB creation and embedding storage is in the file [create_embeddings.py](./create_embeddings.py).\n",
    "\n",
    "The embeddings are also stored in a csv file [listings_with_embeddings.csv](./listings_with_embeddings.csv)\n"
   ]
  },
  {
   "cell_type": "markdown",
   "id": "2a486802-ed6c-45d1-98c3-329a49f29918",
   "metadata": {},
   "source": [
    "## Step 4: Building the User Preference Interface\n",
    "\n",
    "I hardcoded as set of 5 user instructions which I generated using the script [generate_testdata.py](./generate_testdata.py). The instructions are stored in [test_data.json](./test_data.json)"
   ]
  },
  {
   "cell_type": "code",
   "execution_count": 2,
   "id": "7f23366d-72ad-41db-af0a-7b0638c20437",
   "metadata": {},
   "outputs": [
    {
     "name": "stderr",
     "output_type": "stream",
     "text": [
      "/Users/iftikarsunny/anaconda3/envs/LLMS/lib/python3.10/site-packages/tqdm/auto.py:21: TqdmWarning: IProgress not found. Please update jupyter and ipywidgets. See https://ipywidgets.readthedocs.io/en/stable/user_install.html\n",
      "  from .autonotebook import tqdm as notebook_tqdm\n"
     ]
    }
   ],
   "source": [
    "import json\n",
    "from generate_data import *\n",
    "from create_embeddings import *"
   ]
  },
  {
   "cell_type": "code",
   "execution_count": 3,
   "id": "ec82f50e-187b-469a-924f-feebecda3345",
   "metadata": {},
   "outputs": [],
   "source": [
    "\n",
    "with open('./test_data.json') as f:\n",
    "    test_user_scripts = json.loads(f.read())"
   ]
  },
  {
   "cell_type": "code",
   "execution_count": 4,
   "id": "1e4c9767-3d1d-45de-92a4-aaaf20389ad6",
   "metadata": {},
   "outputs": [],
   "source": [
    "customers = list(test_user_scripts.keys())"
   ]
  },
  {
   "cell_type": "code",
   "execution_count": 5,
   "id": "1fd68aa8-e08b-4d9b-a554-4c322e64d9c7",
   "metadata": {},
   "outputs": [
    {
     "data": {
      "text/plain": [
       "['customer1', 'customer2', 'customer3', 'customer4', 'customer5']"
      ]
     },
     "execution_count": 5,
     "metadata": {},
     "output_type": "execute_result"
    }
   ],
   "source": [
    "customers"
   ]
  },
  {
   "cell_type": "code",
   "execution_count": 6,
   "id": "aae75878-85fc-47b0-8b23-1a803c47dc12",
   "metadata": {},
   "outputs": [],
   "source": [
    "customer_id = 0 # change this to test for different customers"
   ]
  },
  {
   "cell_type": "code",
   "execution_count": 7,
   "id": "d15db40a-e2be-4a9d-86e6-3a4b3130eb81",
   "metadata": {},
   "outputs": [
    {
     "name": "stdout",
     "output_type": "stream",
     "text": [
      "Question- How big do you want your house to be? : User Answer: A comfortable three-bedroom house with a spacious kitchen and a cozy living room.Question- What are 3 most important things for you in choosing this property? : User Answer: A quiet neighborhood, good local schools, and convenient shopping options.Question- Which amenities would you like? : User Answer: A backyard for gardening, a two-car garage, and a modern, energy-efficient heating system.Question- Which transportation options are important to you? : User Answer: Easy access to a reliable bus line, proximity to a major highway, and bike-friendly roads.Question- How urban do you want your neighborhood to be? : User Answer: A balance between suburban tranquility and access to urban amenities like restaurants and theaters.\n"
     ]
    }
   ],
   "source": [
    "# Format user chat history\n",
    "def build_customer_chat_history(customer_id):\n",
    "    outstring=\"\"\n",
    "    for q,a in test_user_scripts[customers[customer_id]].items():\n",
    "        outstring+=f\"Question- {q} : User Answer: {a}\"\n",
    "    return outstring\n",
    "\n",
    "print(build_customer_chat_history(customer_id))\n",
    "        \n",
    "        \n",
    "chat_history =  build_customer_chat_history(customer_id) "
   ]
  },
  {
   "cell_type": "code",
   "execution_count": 8,
   "id": "b060ab19-fbb9-4768-b1ce-1143643ea143",
   "metadata": {},
   "outputs": [],
   "source": [
    "user_prompt= f\"\"\"\n",
    "    Please only use the customer chat history given below to create a desired listing for them. \n",
    "    Use the example given below and  format the results in json format.\n",
    "    All the results should be saved inside a key called listings.\n",
    "    Each result should have the following keys: Neighborhood, Price, Bedrooms, Bathrooms, House Size, Description, Neighborhood Description.\n",
    "    Use only information from the chat history. If any of the fields are unavailable,list them as None.\n",
    "    Customer Chat History: {chat_history}\n",
    "    Example:{example_listing}\n",
    "    \"\"\""
   ]
  },
  {
   "cell_type": "code",
   "execution_count": 9,
   "id": "43fca242-c013-4be3-a155-8d8a5699bf80",
   "metadata": {},
   "outputs": [],
   "source": [
    "# this function reformats the user inputs to a json structured output very similar to the one used to create embeddings\n",
    "\n",
    "def get_reformatted_output(user_prompt):\n",
    "    response = client.chat.completions.create(\n",
    "    model=\"gpt-4-turbo-preview\",\n",
    "    response_format={ \"type\": \"json_object\" },\n",
    "    messages=[\n",
    "        {\"role\": \"system\", \"content\": \"You are a helpful assistant with deep expertise in real estate.\"},\n",
    "        {\"role\": \"user\", \"content\": user_prompt}\n",
    "    ]\n",
    "    )\n",
    "\n",
    "    listings = json.loads(response.choices[0].message.content)[\"listings\"]\n",
    "    # print(listings)\n",
    "    return listings"
   ]
  },
  {
   "cell_type": "code",
   "execution_count": 10,
   "id": "6d91921c-9c2a-4020-97bc-d179070dd3aa",
   "metadata": {},
   "outputs": [],
   "source": [
    "response = get_reformatted_output(user_prompt)[0]"
   ]
  },
  {
   "cell_type": "code",
   "execution_count": 11,
   "id": "5c515e80-aadb-41ba-ad54-73c7fa6dc8ab",
   "metadata": {},
   "outputs": [
    {
     "name": "stdout",
     "output_type": "stream",
     "text": [
      "Bedrooms: 3  Description: This captivating three-bedroom home is a perfect blend of comfort and sustainability, featuring a spacious kitchen ideal for family gatherings, a cozy living room for relaxing evenings, and a modern, energy-efficient heating system. The property boasts a beautiful backyard suitable for gardening enthusiasts and comes with a convenient two-car garage. Ideal for those valuing both their quiet moments at home and the energy efficiency of their living space.  Neighborhood Description: Looking for a serene yet connected living experience? This neighborhood merges the quietness required for a peaceful family life with the convenience of being close to excellent local schools, multiple shopping options, and easy access to urban amenities. Commuters will appreciate the easy access to a reliable bus line, proximity to a major highway for quick getaways, and bike-friendly roads for leisurely weekend rides. A perfect balance for those who appreciate suburban tranquility with a touch of urban accessibility.  \n"
     ]
    }
   ],
   "source": [
    "# Converts json output of user query to string\n",
    "def format_response(response):\n",
    "    out_string=\"\"\n",
    "    for item,val in response.items():\n",
    "        if val != 'None':\n",
    "            out_string+=f\"{item}: {val}  \"\n",
    "    return out_string\n",
    "\n",
    "print(format_response(response))\n",
    "            "
   ]
  },
  {
   "cell_type": "code",
   "execution_count": 12,
   "id": "da3600ae-d048-47ca-9ef9-9e4d64038169",
   "metadata": {},
   "outputs": [],
   "source": [
    "def get_user_preference(customer_id, img_path=None):\n",
    "    # if user provides an image as reference, we shall also use that. The assumption is that the image has been \n",
    "    # loaded and placed in a path the application can access\n",
    "    image = img_path\n",
    "    # if img_path:\n",
    "    #     try: \n",
    "    #         image = Image.open(image_path)\n",
    "    #     except:\n",
    "    #         pass\n",
    "\n",
    "    chat_history =  build_customer_chat_history(customer_id) \n",
    "    user_prompt= f\"\"\"\n",
    "    Please only use the customer chat history given below to create a desired listing for them. \n",
    "    Use the example given below and  format the results in json format.\n",
    "    All the results should be saved inside a key called listings.\n",
    "    Each result should have the following keys: Neighborhood, Price, Bedrooms, Bathrooms, House Size, Description, Neighborhood Description.\n",
    "    Use only information from the chat history. If any of the fields are unavailable,list them as None.\n",
    "    Customer Chat History: {chat_history}\n",
    "    Example:{example_listing}\n",
    "    \"\"\"\n",
    "    response = get_reformatted_output(user_prompt)[0]\n",
    "    formatted_response = format_response(response)\n",
    "    return formatted_response, image\n",
    "    \n",
    "\n",
    "    \n",
    "    "
   ]
  },
  {
   "cell_type": "markdown",
   "id": "ef49986a-1c2b-4a8b-a3fd-bf8cc7bdf281",
   "metadata": {},
   "source": [
    "## Step 5: Searching Based on Preferences"
   ]
  },
  {
   "cell_type": "code",
   "execution_count": 13,
   "id": "2d1cd930-c705-4ec8-8496-1a63a0eae845",
   "metadata": {},
   "outputs": [],
   "source": [
    "import lancedb\n",
    "uri = \"./sample-lancedb\"\n",
    "db = lancedb.connect(uri)"
   ]
  },
  {
   "cell_type": "code",
   "execution_count": 14,
   "id": "a961b1f5-fbcb-43db-9681-e1790f2e6758",
   "metadata": {},
   "outputs": [],
   "source": [
    "text_table = \"table_from_df_text\"\n",
    "img_table = \"table_from_df_images\""
   ]
  },
  {
   "cell_type": "code",
   "execution_count": 15,
   "id": "066c8744-a602-42be-9501-68283abf7c95",
   "metadata": {},
   "outputs": [],
   "source": [
    "tbl_txt = db.open_table(text_table)\n",
    "tbl_img = db.open_table(img_table)"
   ]
  },
  {
   "cell_type": "code",
   "execution_count": 16,
   "id": "11406909-a9e8-4a89-94db-9d3354723ea3",
   "metadata": {},
   "outputs": [],
   "source": [
    "def get_embeddings_user_prefs(resp):\n",
    "    text_resp, img_resp = resp[0],resp[1]\n",
    "    text_embs = get_embedding(text_resp)\n",
    "    img_embs = None\n",
    "    if img_resp:\n",
    "        try:\n",
    "            img_embs = create_clip_image_embeddings(img_resp, model_name)\n",
    "        except:\n",
    "            pass\n",
    "\n",
    "    return text_embs,img_embs\n",
    "        "
   ]
  },
  {
   "cell_type": "code",
   "execution_count": 17,
   "id": "40235c32-504b-4652-abf1-3fa7a995e8ff",
   "metadata": {},
   "outputs": [],
   "source": [
    "resp = get_user_preference(customer_id)\n",
    "embeddings = get_embeddings_user_prefs(resp)"
   ]
  },
  {
   "cell_type": "code",
   "execution_count": 17,
   "id": "c18211da-3d84-47ad-88ff-eb63ac09ed40",
   "metadata": {},
   "outputs": [],
   "source": [
    "def search_tables(embeddings,num_responses=5):\n",
    "    text_embeddings = embeddings[0]\n",
    "    img_embeddings = embeddings[1]\n",
    "    df = tbl_txt.search(text_embeddings) \\\n",
    "    .metric(\"cosine\") \\\n",
    "    .limit(num_responses) \\\n",
    "    .to_pandas()\n",
    "    return df\n",
    "    "
   ]
  },
  {
   "cell_type": "code",
   "execution_count": null,
   "id": "d2cba3c0-f25a-482a-90f8-ef1db57199b0",
   "metadata": {},
   "outputs": [],
   "source": [
    "print(search_tables(embeddings))"
   ]
  },
  {
   "cell_type": "code",
   "execution_count": null,
   "id": "a1b8f522-9166-48ca-9488-ea733dd88bce",
   "metadata": {},
   "outputs": [],
   "source": []
  }
 ],
 "metadata": {
  "kernelspec": {
   "display_name": "Python 3 (ipykernel)",
   "language": "python",
   "name": "python3"
  },
  "language_info": {
   "codemirror_mode": {
    "name": "ipython",
    "version": 3
   },
   "file_extension": ".py",
   "mimetype": "text/x-python",
   "name": "python",
   "nbconvert_exporter": "python",
   "pygments_lexer": "ipython3",
   "version": "3.10.13"
  }
 },
 "nbformat": 4,
 "nbformat_minor": 5
}
